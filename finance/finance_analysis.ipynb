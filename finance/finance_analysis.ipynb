{
 "cells": [
  {
   "attachments": {},
   "cell_type": "markdown",
   "metadata": {},
   "source": [
    "# Financial Analysis"
   ]
  },
  {
   "attachments": {},
   "cell_type": "markdown",
   "metadata": {},
   "source": [
    "# Imports"
   ]
  },
  {
   "cell_type": "code",
   "execution_count": 1,
   "metadata": {},
   "outputs": [],
   "source": [
    "!source /Users/rah/Desktop/correlation_one_ds4a/env/bin/activate"
   ]
  },
  {
   "cell_type": "code",
   "execution_count": 2,
   "metadata": {},
   "outputs": [],
   "source": [
    "import pandas as pd\n",
    "import yfinance as yf\n",
    "import logging\n",
    "from tickers import *\n",
    "from cryptocurrencies import *\n",
    "from datetime import *\n"
   ]
  },
  {
   "cell_type": "code",
   "execution_count": 3,
   "metadata": {},
   "outputs": [],
   "source": [
    "# logging\n",
    "logger = logging.getLogger('yfinance')\n",
    "logger.setLevel(logging.ERROR)  # default: only print errors\n",
    "logger.setLevel(logging.CRITICAL)  # disable printing\n",
    "logger.setLevel(logging.DEBUG)  # verbose: print errors & debug info"
   ]
  },
  {
   "attachments": {},
   "cell_type": "markdown",
   "metadata": {},
   "source": [
    "# Reading data from sources"
   ]
  },
  {
   "attachments": {},
   "cell_type": "markdown",
   "metadata": {},
   "source": [
    "### Stocks"
   ]
  },
  {
   "cell_type": "code",
   "execution_count": 4,
   "metadata": {},
   "outputs": [],
   "source": [
    "# reading in tickers list > \n",
    "#tickers = pd.DataFrame(tickers)\n",
    "\n",
    "#  Assigning column header 'ticker' to the DataFrame\n",
    "#tickers.columns = ['ticker']\n",
    "\n",
    "# Sorting the DataFrame by the 'ticker' column in ascending order\n",
    "#tickers = tickers.sort_values(by='ticker', ascending=True)\n",
    "\n",
    "# Resetting the index of the DataFrame\n",
    "#tickers = tickers.reset_index(drop=True)\n",
    "\n",
    "#tickers"
   ]
  },
  {
   "cell_type": "code",
   "execution_count": 5,
   "metadata": {},
   "outputs": [],
   "source": [
    "#download data example\n",
    "#data = yf.download(\"SPY AAPL\", start=\"2017-01-01\", end=\"2017-04-30\")\n",
    "#data"
   ]
  },
  {
   "cell_type": "code",
   "execution_count": 6,
   "metadata": {},
   "outputs": [],
   "source": [
    "# see tickers\n",
    "#tickers"
   ]
  },
  {
   "cell_type": "code",
   "execution_count": 7,
   "metadata": {},
   "outputs": [
    {
     "name": "stderr",
     "output_type": "stream",
     "text": [
      "\n",
      "1 Failed download:\n",
      "['ALXN']: Exception('%ticker%: No timezone found, symbol may be delisted')\n",
      "\n",
      "1 Failed download:\n",
      "['AABA']: Exception('%ticker%: No timezone found, symbol may be delisted')\n",
      "\n",
      "1 Failed download:\n",
      "['AMOV']: Exception('%ticker%: No timezone found, symbol may be delisted')\n",
      "\n",
      "1 Failed download:\n",
      "['ATHN']: Exception('%ticker%: No timezone found, symbol may be delisted')\n",
      "\n",
      "1 Failed download:\n",
      "['OZRK']: Exception('%ticker%: No timezone found, symbol may be delisted')\n",
      "\n",
      "1 Failed download:\n",
      "['CDK']: Exception('%ticker%: No timezone found, symbol may be delisted')\n",
      "\n",
      "1 Failed download:\n",
      "['CELG']: Exception('%ticker%: No timezone found, symbol may be delisted')\n",
      "\n",
      "1 Failed download:\n",
      "['CERN']: Exception('%ticker%: No timezone found, symbol may be delisted')\n",
      "\n",
      "1 Failed download:\n",
      "['CTXS']: Exception('%ticker%: No timezone found, symbol may be delisted')\n",
      "\n",
      "1 Failed download:\n",
      "['CTRP']: Exception('%ticker%: No timezone found, symbol may be delisted')\n",
      "\n",
      "1 Failed download:\n",
      "['CY']: Exception('%ticker%: No timezone found, symbol may be delisted')\n"
     ]
    }
   ],
   "source": [
    "# for loop to download data for multiple tickers\n",
    "\n",
    "# Create an empty DataFrame to store the combined data\n",
    "combined_data = pd.DataFrame()\n",
    "\n",
    "# Iterate over each ticker symbol\n",
    "for ticker in tickers:\n",
    "    # Download data for the ticker within the specified date range\n",
    "    data = yf.download(ticker, start=\"1900-01-01\", end=datetime.today())\n",
    "    \n",
    "    # Add a column with the ticker name\n",
    "    data['Ticker'] = ticker\n",
    "    \n",
    "    # Concatenate the data to the combined DataFrame\n",
    "    combined_data = pd.concat([combined_data, data])\n",
    "\n",
    "# Print the combined data\n",
    "#print(combined_data)"
   ]
  },
  {
   "cell_type": "code",
   "execution_count": null,
   "metadata": {},
   "outputs": [],
   "source": [
    "combined_data.sort_values(by=['Date','Ticker'],ascending=[False,True])"
   ]
  },
  {
   "attachments": {},
   "cell_type": "markdown",
   "metadata": {},
   "source": [
    "### Crypto"
   ]
  },
  {
   "cell_type": "code",
   "execution_count": null,
   "metadata": {},
   "outputs": [],
   "source": [
    "cryptocurrencies"
   ]
  },
  {
   "cell_type": "code",
   "execution_count": null,
   "metadata": {},
   "outputs": [],
   "source": [
    "# for loop to download data for multiple crypto\n",
    "\n",
    "# Create an empty DataFrame to store the combined data\n",
    "combined_crypto_data = pd.DataFrame()\n",
    "\n",
    "# Iterate over each ticker symbol\n",
    "for ticker in cryptocurrencies:\n",
    "    # Download data for the ticker within the specified date range\n",
    "    data = yf.download(ticker, start=\"1900-01-01\", end=datetime.today())\n",
    "    \n",
    "    # Add a column with the ticker name\n",
    "    data['Ticker'] = ticker\n",
    "    \n",
    "    # Concatenate the data to the combined DataFrame\n",
    "    combined_crypto_data = pd.concat([combined_crypto_data, data])\n",
    "\n",
    "# Print the combined data\n",
    "#print(combined_data)"
   ]
  },
  {
   "cell_type": "code",
   "execution_count": null,
   "metadata": {},
   "outputs": [],
   "source": [
    "combined_crypto_data.sort_values(by=['Date','Ticker'],ascending=[False,True])"
   ]
  },
  {
   "attachments": {},
   "cell_type": "markdown",
   "metadata": {},
   "source": [
    "Baseline exploration\n",
    "- How the value of stocks/crypto flunctuated overtime?\n",
    "    \n",
    "    YTD, 1/5/10 year lookback absolute\n",
    "    Calc difference"
   ]
  },
  {
   "cell_type": "code",
   "execution_count": null,
   "metadata": {},
   "outputs": [],
   "source": []
  }
 ],
 "metadata": {
  "kernelspec": {
   "display_name": "env",
   "language": "python",
   "name": "python3"
  },
  "language_info": {
   "codemirror_mode": {
    "name": "ipython",
    "version": 3
   },
   "file_extension": ".py",
   "mimetype": "text/x-python",
   "name": "python",
   "nbconvert_exporter": "python",
   "pygments_lexer": "ipython3",
   "version": "3.11.1"
  },
  "orig_nbformat": 4
 },
 "nbformat": 4,
 "nbformat_minor": 2
}
