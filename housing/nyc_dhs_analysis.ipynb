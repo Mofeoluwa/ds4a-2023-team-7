{
 "cells": [
  {
   "attachments": {},
   "cell_type": "markdown",
   "metadata": {},
   "source": [
    "# NYC OpenData - Department of Homelessness Analysis"
   ]
  },
  {
   "attachments": {},
   "cell_type": "markdown",
   "metadata": {},
   "source": [
    "#### Sources"
   ]
  },
  {
   "attachments": {},
   "cell_type": "markdown",
   "metadata": {},
   "source": [
    "priority | dataset  | description | link |\n",
    "--------------|--------------|-------------|---------------|\n",
    "1 | DHS Daily Report | This dataset includes the daily number of families and individuals residing in the Department of <br> Homeless Services (DHS) shelter system and the daily number of families applying to the DHS shelter system. | https://dev.socrata.com/foundry/data.cityofnewyork.us/k46n-sa2m |\n",
    "2 | Evictions | This dataset lists pending, scheduled and executed evictions within the five boroughs, for the year 2017 - Present. <br> Eviction data is compiled from the majority of New York City Marshals.  | https://dev.socrata.com/foundry/data.cityofnewyork.us/6z8x-wfk4 |\n",
    "3 | DYCD Demographics by Zip Code | This dataset provides a Demographic breakdown of only DYCD-funded participants within a Zip Code of NYC | https://dev.socrata.com/foundry/data.cityofnewyork.us/hebw-6hze |\n",
    "\n"
   ]
  },
  {
   "attachments": {},
   "cell_type": "markdown",
   "metadata": {},
   "source": [
    "#### References"
   ]
  },
  {
   "attachments": {},
   "cell_type": "markdown",
   "metadata": {},
   "source": [
    "| source  | link |\n",
    "|--------------|---------------|\n",
    "| Time Series | https://dev.socrata.com/blog/2019/10/07/time-series-analysis-with-jupyter-notebooks-and-socrata.html |\n"
   ]
  },
  {
   "attachments": {},
   "cell_type": "markdown",
   "metadata": {},
   "source": [
    "## Imports\n"
   ]
  },
  {
   "cell_type": "code",
   "execution_count": null,
   "metadata": {},
   "outputs": [],
   "source": [
    "import dash\n",
    "import dash\n",
    "from dash import Dash, dcc, html, Input, Output, dash_table, callback\n",
    "import dash_mantine_components as dmc\n",
    "import dash_bootstrap_components as dbc\n",
    "import pandas as pd\n",
    "from sodapy import Socrata\n",
    "import plotly.express as px\n",
    "import nbformat\n",
    "import matplotlib.pyplot as plt\n",
    "from pandas.plotting import register_matplotlib_converters\n",
    "from datetime import *\n",
    "import statsmodels.api as sm\n",
    "import seaborn as sns\n",
    "import plotly.io as pio\n",
    "import numpy as np\n",
    "from sklearn.linear_model import LinearRegression"
   ]
  },
  {
   "attachments": {},
   "cell_type": "markdown",
   "metadata": {},
   "source": [
    "## Read data from API to Dataframes"
   ]
  },
  {
   "attachments": {},
   "cell_type": "markdown",
   "metadata": {},
   "source": [
    "**Dept of Homelessness Daily Report**"
   ]
  },
  {
   "cell_type": "code",
   "execution_count": null,
   "metadata": {},
   "outputs": [],
   "source": [
    "# https://dev.socrata.com/foundry/data.cityofnewyork.us/k46n-sa2m\n",
    "client = Socrata(\"data.cityofnewyork.us\", None)\n",
    "results = client.get(\"k46n-sa2m\",limit=80000)\n",
    "\n",
    "# Convert to pandas DataFrame\n",
    "dhs_daily_df = pd.DataFrame.from_records(results)"
   ]
  },
  {
   "attachments": {},
   "cell_type": "markdown",
   "metadata": {},
   "source": [
    "**Evictions**"
   ]
  },
  {
   "cell_type": "code",
   "execution_count": null,
   "metadata": {},
   "outputs": [],
   "source": [
    "# https://dev.socrata.com/foundry/data.cityofnewyork.us/6z8x-wfk4\n",
    "client = Socrata(\"data.cityofnewyork.us\", None)\n",
    "results = client.get(\"6z8x-wfk4\",limit=80000)\n",
    "\n",
    "# Convert to pandas DataFrame\n",
    "evictions_df = pd.DataFrame.from_records(results)"
   ]
  },
  {
   "attachments": {},
   "cell_type": "markdown",
   "metadata": {},
   "source": [
    "**DYCD - Dept of Youth & Community Development** - \n",
    "Demographics by Zip Code"
   ]
  },
  {
   "cell_type": "code",
   "execution_count": null,
   "metadata": {},
   "outputs": [],
   "source": [
    "# https://dev.socrata.com/foundry/data.cityofnewyork.us/hebw-6hze\n",
    "\n",
    "client = Socrata(\"data.cityofnewyork.us\", None)\n",
    "results = client.get(\"hebw-6hze\",limit=80000)\n",
    "\n",
    "\n",
    "# Convert to pandas DataFrame\n",
    "demos_by_zip_df = pd.DataFrame.from_records(results)"
   ]
  },
  {
   "attachments": {},
   "cell_type": "markdown",
   "metadata": {},
   "source": [
    "## Exploratory Data Analysis"
   ]
  },
  {
   "attachments": {},
   "cell_type": "markdown",
   "metadata": {},
   "source": [
    "### Schema Info + Data Cleaning"
   ]
  },
  {
   "attachments": {},
   "cell_type": "markdown",
   "metadata": {},
   "source": [
    "#### dhs_report"
   ]
  },
  {
   "cell_type": "code",
   "execution_count": null,
   "metadata": {},
   "outputs": [],
   "source": [
    "# dhs_daily_report\n",
    "# columns are objects > causing issues downstream when trying to graph > need to convert to numeric\n",
    "\n",
    "\n",
    "#converting to type numeric\n",
    "cols = dhs_daily_df.columns.drop('date_of_census')\n",
    "dhs_daily_df[cols] = dhs_daily_df[cols].apply(pd.to_numeric)\n",
    "dhs_daily_df.info()"
   ]
  },
  {
   "cell_type": "code",
   "execution_count": null,
   "metadata": {},
   "outputs": [],
   "source": [
    "dhs_daily_df['date_of_census'] = pd.to_datetime(dhs_daily_df['date_of_census'])\n",
    "dhs_daily_df"
   ]
  },
  {
   "attachments": {},
   "cell_type": "markdown",
   "metadata": {},
   "source": [
    "#### evictions"
   ]
  },
  {
   "cell_type": "code",
   "execution_count": null,
   "metadata": {},
   "outputs": [],
   "source": [
    "#evictions\n",
    "#evictions_df.info()\n",
    "evictions_df['executed_date'] = pd.to_datetime(evictions_df['executed_date'])\n",
    "evictions_df.sort_values(by='executed_date',ascending=False)"
   ]
  },
  {
   "attachments": {},
   "cell_type": "markdown",
   "metadata": {},
   "source": [
    "#### demos by zip"
   ]
  },
  {
   "cell_type": "code",
   "execution_count": null,
   "metadata": {},
   "outputs": [],
   "source": [
    "#demos_by_zip_df.info()\n",
    "demos_by_zip_df['data_os_of_date'] = pd.to_datetime(demos_by_zip_df['data_os_of_date'])\n",
    "demos_by_zip_df"
   ]
  },
  {
   "attachments": {},
   "cell_type": "markdown",
   "metadata": {},
   "source": [
    "### Handling Nulls"
   ]
  },
  {
   "cell_type": "code",
   "execution_count": null,
   "metadata": {},
   "outputs": [],
   "source": [
    "# check for nulls \n",
    "evictions_df.isna().any()"
   ]
  },
  {
   "cell_type": "code",
   "execution_count": null,
   "metadata": {},
   "outputs": [],
   "source": [
    "# check for nulls \n",
    "dhs_daily_df.isna().any()"
   ]
  },
  {
   "cell_type": "code",
   "execution_count": null,
   "metadata": {},
   "outputs": [],
   "source": [
    "demos_by_zip_df.isna().any()"
   ]
  },
  {
   "attachments": {},
   "cell_type": "markdown",
   "metadata": {},
   "source": [
    "### Data Pivots"
   ]
  },
  {
   "attachments": {},
   "cell_type": "markdown",
   "metadata": {},
   "source": [
    "#### DHS Time Series Analysis"
   ]
  },
  {
   "attachments": {},
   "cell_type": "markdown",
   "metadata": {},
   "source": [
    "Questions to Answer <br>\n",
    "- How has the homeless population in NYC evolved over time?"
   ]
  },
  {
   "cell_type": "code",
   "execution_count": null,
   "metadata": {},
   "outputs": [],
   "source": [
    "dhs_daily_df"
   ]
  },
  {
   "cell_type": "code",
   "execution_count": null,
   "metadata": {},
   "outputs": [],
   "source": [
    "# get percentage of total per subgroup\n",
    "# denominator is always total_individuals_in_shelter\n",
    "# create a for loop for every column except total_individuals_in_shelter, divide & then append result as column name + concat perc_ as prefix\n",
    "\n",
    "# Create a list to store the new column names\n",
    "new_columns = []\n",
    "\n",
    "# Iterate over each column\n",
    "for column in dhs_daily_df.columns:\n",
    "    if column != 'total_individuals_in_shelter' and column != 'date_of_census':\n",
    "        # Generate the new column name with the prefix \"perc_\" followed by the original column name\n",
    "        new_column = 'perc_' + column\n",
    "        \n",
    "        # Divide the values in the current column by the values in the 'total_individuals_in_shelter' column\n",
    "        new_values = ((dhs_daily_df[column].astype(float) / dhs_daily_df['total_individuals_in_shelter'].astype(float))*100).round(2)\n",
    "        \n",
    "        # Append the new column to the DataFrame\n",
    "        dhs_daily_df[new_column] = new_values\n",
    "        \n",
    "        # Append the new column name to the list\n",
    "        new_columns.append(new_column)"
   ]
  },
  {
   "cell_type": "code",
   "execution_count": null,
   "metadata": {},
   "outputs": [],
   "source": [
    "dhs_daily_df.columns"
   ]
  },
  {
   "cell_type": "code",
   "execution_count": null,
   "metadata": {},
   "outputs": [],
   "source": [
    "'''filtered_columns = []\n",
    "for column in dhs_daily_df.columns:\n",
    "    if column.startswith('perc_'):\n",
    "        filtered_columns.append(column)  \n",
    "dhs_daily_df[filtered_columns].info()'''"
   ]
  },
  {
   "cell_type": "code",
   "execution_count": null,
   "metadata": {},
   "outputs": [],
   "source": [
    "# convert to monthly & quarterly\n",
    "# Set the 'date' column as the index\n",
    "dhs_daily_df.set_index('date_of_census', inplace=True)\n",
    "\n",
    "# Resample to monthly average data\n",
    "monthly_avg_df = dhs_daily_df.resample('M').mean()\n",
    "\n",
    "# Resample to quarterly average data\n",
    "quarterly_avg_df = dhs_daily_df.resample('Q').mean()\n",
    "\n",
    "# Resample to quarterly average data\n",
    "yearly_avg_df = dhs_daily_df.resample('Y').mean()"
   ]
  },
  {
   "cell_type": "code",
   "execution_count": null,
   "metadata": {},
   "outputs": [],
   "source": [
    "#dhs_daily_df\n",
    "#monthly_avg_df\n",
    "#quarterly_avg_df\n",
    "#yearly_avg_df\n",
    "\n",
    "dhs_daily_df\n"
   ]
  },
  {
   "cell_type": "code",
   "execution_count": null,
   "metadata": {},
   "outputs": [],
   "source": [
    "monthly_avg_df = monthly_avg_df.filter(regex='^perc_')\n",
    "#monthly_avg_df"
   ]
  },
  {
   "cell_type": "code",
   "execution_count": null,
   "metadata": {},
   "outputs": [],
   "source": [
    "quarterly_avg_df = quarterly_avg_df.filter(regex='^perc_')\n",
    "#quarterly_avg_df"
   ]
  },
  {
   "cell_type": "code",
   "execution_count": null,
   "metadata": {},
   "outputs": [],
   "source": [
    "yearly_avg_df = yearly_avg_df.filter(regex='^perc_')\n",
    "#yearly_avg_df"
   ]
  },
  {
   "attachments": {},
   "cell_type": "markdown",
   "metadata": {},
   "source": [
    "#### Evictions"
   ]
  },
  {
   "cell_type": "code",
   "execution_count": null,
   "metadata": {},
   "outputs": [],
   "source": [
    "counts_by_boro_piv = pd.pivot_table(evictions_df,values='docket_number', aggfunc='count',index='executed_date',columns='borough').reset_index().sort_values(by='executed_date',ascending=False)\n",
    "#counts_by_boro_piv = pd.pivot_table(results_df,values='docket_number', aggfunc='count',index='executed_date',columns='borough')"
   ]
  },
  {
   "cell_type": "code",
   "execution_count": null,
   "metadata": {},
   "outputs": [],
   "source": [
    "# Convert 'executed_date' column to datetime\n",
    "counts_by_boro_piv['executed_date'] = pd.to_datetime(counts_by_boro_piv['executed_date'])"
   ]
  },
  {
   "cell_type": "code",
   "execution_count": null,
   "metadata": {},
   "outputs": [],
   "source": [
    "counts_by_boro_piv"
   ]
  },
  {
   "attachments": {},
   "cell_type": "markdown",
   "metadata": {},
   "source": [
    "### Data Visualizations"
   ]
  },
  {
   "attachments": {},
   "cell_type": "markdown",
   "metadata": {},
   "source": [
    "#### evictions"
   ]
  },
  {
   "cell_type": "code",
   "execution_count": null,
   "metadata": {},
   "outputs": [],
   "source": [
    "# Melt the DataFrame\n",
    "counts_by_boro_fig = counts_by_boro_piv.melt(id_vars='executed_date', var_name='borough', value_name='count')"
   ]
  },
  {
   "cell_type": "code",
   "execution_count": null,
   "metadata": {},
   "outputs": [],
   "source": [
    "# Create bar plot using Plotly\n",
    "fig = px.bar(counts_by_boro_fig, x='executed_date', y='count', color='borough', barmode='group')\n",
    "\n",
    "# Display the plot\n",
    "fig.show()"
   ]
  },
  {
   "attachments": {},
   "cell_type": "markdown",
   "metadata": {},
   "source": [
    "#### dept homelessness"
   ]
  },
  {
   "attachments": {},
   "cell_type": "markdown",
   "metadata": {},
   "source": [
    "##### time series"
   ]
  },
  {
   "cell_type": "code",
   "execution_count": null,
   "metadata": {},
   "outputs": [],
   "source": [
    "dhs_daily_df.info()\n",
    "#monthly_avg_df.info()\n",
    "#quarterly_avg_df.info()"
   ]
  },
  {
   "cell_type": "code",
   "execution_count": null,
   "metadata": {},
   "outputs": [],
   "source": [
    "# filter functions\n",
    "\n",
    "# date filter\n",
    "def get_date(date_of_census, start_date, end_date):\n",
    "    date_of_census=date_of_census\n",
    "    start_date=start_date\n",
    "    end_date=end_date\n",
    "    return start_date <= date_of_census <= end_date\n",
    "\n",
    "# column filter\n",
    "def get_columns(df, desired_columns):\n",
    "    columns = []\n",
    "    for i, column in enumerate(df.columns):\n",
    "        if i in desired_columns:\n",
    "            columns.append(column)\n",
    "    return df[columns]"
   ]
  },
  {
   "cell_type": "code",
   "execution_count": null,
   "metadata": {},
   "outputs": [],
   "source": [
    "desired_columns = [0,1,2,3,4,5,6,7,8,9,10]\n",
    "start_date = datetime(2013, 1, 1)\n",
    "end_date = datetime(2022, 12, 31)\n",
    "\n",
    "# Convert index values to datetime\n",
    "filter = get_columns(dhs_daily_df,desired_columns)\n",
    "#filter.columns\n",
    "dhs_daily_df.columns"
   ]
  },
  {
   "cell_type": "code",
   "execution_count": null,
   "metadata": {},
   "outputs": [],
   "source": [
    "desired_columns = [0,1,2,3,4,5,6,7,8,9,10]\n",
    "start_date = datetime(2013, 1, 1)\n",
    "end_date = datetime(2022, 12, 31)\n",
    "\n",
    "# Convert index values to datetime\n",
    "filtered_data = get_columns(dhs_daily_df,desired_columns)\n",
    "\n",
    "# Apply date filter\n",
    "filtered_data = filtered_data[filtered_data.index.to_series().apply(get_date, start_date=start_date, end_date=end_date)]\n",
    "filtered_data.reset_index(inplace=True)\n",
    "filtered_data\n",
    "\n",
    "# Set the template to 'plotly_dark'\n",
    "pio.templates.default = \"plotly_dark\"\n",
    "\n",
    "# Create the bar chart\n",
    "fig = px.line(filtered_data, x='date_of_census', y='total_individuals_in_shelter',\n",
    "             color_discrete_sequence=['orange',],\n",
    "             labels=dict(\n",
    "                 date_of_census='Year Start',\n",
    "                 total_individuals_in_shelter='Total Sheltered Individuals'\n",
    "             ),             \n",
    "             title='Daily Total Individuals in NYC Shelters',            \n",
    "             )\n",
    "\n",
    "# Customize the layout if needed\n",
    "fig.update_layout( xaxis_tickangle=0,\n",
    "                  legend=dict(orientation='h', yanchor='bottom', y=1.05, xanchor='left', x=0),                  \n",
    "                  yaxis=dict(tickmode='auto', tickformat='d', range=[40000, filtered_data['total_individuals_in_shelter'].max()]),\n",
    "                  margin=dict(l=100, r=50, t=80, b=20),  # Adjust the left and right margin values as desired\n",
    "                  width=1500,  # Set the desired width of the figure\n",
    "                  height=500  # Set the desired height of the figure\n",
    "                  )\n",
    "\n",
    "\n",
    "# Display the plot\n",
    "fig.show()"
   ]
  },
  {
   "cell_type": "code",
   "execution_count": null,
   "metadata": {},
   "outputs": [],
   "source": [
    "desired_columns = [0,1,2,3,4,5,6,7,8,9,10,11,12,13,14,15,16,17,18,19,20,21,22,23,24]\n",
    "start_date = datetime(2013, 1, 1)\n",
    "end_date = datetime(2022, 12, 31)\n",
    "\n",
    "# Convert index values to datetime\n",
    "filtered_data = get_columns(dhs_daily_df,desired_columns)\n",
    "filtered_data.columns"
   ]
  },
  {
   "cell_type": "code",
   "execution_count": null,
   "metadata": {},
   "outputs": [],
   "source": [
    "desired_columns = [0,1,2,3,4,5,6,7,8,9,10,11]\n",
    "start_date = datetime(2013, 1, 1)\n",
    "end_date = datetime(2022, 12, 31)\n",
    "\n",
    "# Convert index values to datetime\n",
    "filtered_data = get_columns(dhs_daily_df,desired_columns)\n",
    "\n",
    "# Apply date filter\n",
    "filtered_data = filtered_data[filtered_data.index.to_series().apply(get_date, start_date=start_date, end_date=end_date)]\n",
    "filtered_data.reset_index(inplace=True)\n",
    "filtered_data\n",
    "\n",
    "# Set the template to 'plotly_dark'\n",
    "pio.templates.default = \"plotly_dark\"\n",
    "\n",
    "# Create the bar chart\n",
    "fig = px.line(filtered_data, x='date_of_census', y=['total_individuals_in_families_with_children_in_shelter_','total_single_adults_in_shelter','individuals_in_adult_families_in_shelter'],\n",
    "             color_discrete_sequence=['sienna', 'orange','silver'],\n",
    "             labels=dict(\n",
    "                 date_of_census='Year Start',\n",
    "                 total_individuals_in_shelter='Total Sheltered Individuals'\n",
    "             ),             \n",
    "             title='Daily Total Individuals in NYC Shelters',            \n",
    "             )\n",
    "\n",
    "# Customize the layout if needed\n",
    "fig.update_layout( xaxis_tickangle=0,\n",
    "                  legend=dict(orientation='h', yanchor='bottom', y=1.0, xanchor='left', x=0),                  \n",
    "                  yaxis=dict(tickmode='auto', tickformat='d', range=[0, filtered_data['total_individuals_in_shelter'].max()]),\n",
    "                  margin=dict(l=100, r=50, t=80, b=20),  # Adjust the left and right margin values as desired\n",
    "                  width=1500,  # Set the desired width of the figure\n",
    "                  height=500  # Set the desired height of the figure\n",
    "                  )\n",
    "\n",
    "\n",
    "# Display the plot\n",
    "fig.show()"
   ]
  },
  {
   "cell_type": "code",
   "execution_count": null,
   "metadata": {},
   "outputs": [],
   "source": [
    "desired_columns = [0,1,2,3,4,5,6,7,8,9,10]\n",
    "start_date = datetime(2013, 1, 1)\n",
    "end_date = datetime(2022, 12, 31)\n",
    "\n",
    "# Convert index values to datetime\n",
    "filtered_data = get_columns(monthly_avg_df,desired_columns)\n",
    "\n",
    "# Apply date filter\n",
    "filtered_data = filtered_data[filtered_data.index.to_series().apply(get_date, start_date=start_date, end_date=end_date)]\n",
    "filtered_data.reset_index(inplace=True)\n",
    "filtered_data\n",
    "\n",
    "# Set the template to 'plotly_dark'\n",
    "pio.templates.default = \"plotly_dark\"\n",
    "\n",
    "# Create the bar chart\n",
    "fig = px.line(filtered_data, x='date_of_census', y=['perc_total_adults_in_shelter', 'perc_total_children_in_shelter','perc_total_single_adults_in_shelter','perc_total_individuals_in_families_with_children_in_shelter_',],\n",
    "             color_discrete_sequence=['silver','purple','orange', 'sienna'],\n",
    "             labels={'date_of_census': 'Year_Start', 'value': 'Percentage'},\n",
    "             title='Average Population in NYC Shelters (%)',\n",
    "             \n",
    "             )\n",
    "\n",
    "# Customize the layout if needed\n",
    "fig.update_layout( xaxis_tickangle=0,\n",
    "                  legend=dict(orientation='h', yanchor='bottom', y=1.05, xanchor='left', x=0),\n",
    "                  xaxis=dict(tickmode='auto', tickformat='%Y'),\n",
    "                  width=1500,  # Set the desired width of the figure\n",
    "                  height=500  # Set the desired height of the figure\n",
    "                  )\n",
    "\n",
    "# Display the plot\n",
    "fig.show()"
   ]
  },
  {
   "cell_type": "code",
   "execution_count": null,
   "metadata": {},
   "outputs": [],
   "source": [
    "desired_columns = [0,1,2,3,4,5,6,7,8,9,10]\n",
    "start_date = datetime(2013, 1, 1)\n",
    "end_date = datetime(2022, 12, 31)\n",
    "\n",
    "# Convert index values to datetime\n",
    "filtered_data = get_columns(monthly_avg_df,desired_columns)\n",
    "\n",
    "# Apply date filter\n",
    "filtered_data = filtered_data[filtered_data.index.to_series().apply(get_date, start_date=start_date, end_date=end_date)]\n",
    "filtered_data.reset_index(inplace=True)\n",
    "filtered_data\n",
    "\n",
    "# Set the template to 'plotly_dark'\n",
    "pio.templates.default = \"plotly_dark\"\n",
    "\n",
    "# Create the line chart\n",
    "fig = px.line(filtered_data, x='date_of_census', y=['perc_total_adults_in_shelter', 'perc_total_children_in_shelter'],\n",
    "             color_discrete_sequence=['silver', 'orange'],\n",
    "             labels={'date_of_census': 'Year_Start', 'value': 'Percentage'},\n",
    "             title='Average Population in NYC Shelters (%)',\n",
    "             width=1500,  # Set the desired width of the figure\n",
    "             height=500  # Set the desired height of the figure\n",
    "             )\n",
    "\n",
    "# Add the second y-axis\n",
    "fig.update_traces(yaxis=\"y\")\n",
    "\n",
    "# Add data labels\n",
    "texts = [filtered_data['perc_total_adults_in_shelter'].apply(lambda x: f'{round(x)}%'),\n",
    "         filtered_data['perc_total_children_in_shelter'].apply(lambda x: f'{round(x)}%')]\n",
    "for i, t in enumerate(texts):\n",
    "    fig.data[i].text = t\n",
    "\n",
    "# Customize the layout if needed\n",
    "fig.update_layout(xaxis_tickangle=0,\n",
    "                  legend=dict(orientation='h', yanchor='bottom', y=1.05, xanchor='left', x=0),\n",
    "                  xaxis=dict(tickmode='auto', tickformat='%Y'),\n",
    "                  yaxis=dict(title='Percentage', side='left'),  # Set side='left' for the first y-axis\n",
    "                  )\n",
    "\n",
    "# Display the plot\n",
    "fig.show()\n"
   ]
  },
  {
   "attachments": {},
   "cell_type": "markdown",
   "metadata": {},
   "source": [
    "##### distribution"
   ]
  },
  {
   "cell_type": "code",
   "execution_count": null,
   "metadata": {},
   "outputs": [],
   "source": [
    "desired_columns = [0,1,2,3,4,5,6,7,8,9,10]\n",
    "start_date = datetime(2013, 1, 1)\n",
    "end_date = datetime(2022, 12, 31)\n",
    "\n",
    "# Convert index values to datetime\n",
    "filtered_data = get_columns(yearly_avg_df,desired_columns)\n",
    "\n",
    "# Apply date filter\n",
    "filtered_data = filtered_data[filtered_data.index.to_series().apply(get_date, start_date=start_date, end_date=end_date)]\n",
    "filtered_data.reset_index(inplace=True)\n",
    "filtered_data\n",
    "\n",
    "# Set the template to 'plotly_dark'\n",
    "pio.templates.default = \"plotly_dark\"\n",
    "\n",
    "# Create the bar chart\n",
    "fig = px.bar(filtered_data, x='date_of_census', y=['perc_total_individuals_in_families_with_children_in_shelter_','perc_total_single_adults_in_shelter','perc_individuals_in_adult_families_in_shelter'],\n",
    "             color_discrete_sequence=['sienna', 'orange','silver'],\n",
    "             labels={'date_of_census': 'Year_Start', 'value': 'Percentage'},\n",
    "             title='NYC Sheltered Population Year-over-Year',\n",
    "             width=1500,  # Set the desired width of the figure\n",
    "            height=500  # Set the desired height of the figure\n",
    "             )\n",
    "\n",
    "# Customize the layout if needed\n",
    "fig.update_layout(barmode='group', xaxis_tickangle=0,\n",
    "                  legend=dict(orientation='h', yanchor='bottom', y=1.05, xanchor='left', x=0))\n",
    "\n",
    "# Add data labels\n",
    "texts = [filtered_data['perc_total_individuals_in_families_with_children_in_shelter_'].apply(lambda x: f'{round(x)}%'),\n",
    "         filtered_data['perc_total_single_adults_in_shelter'].apply(lambda x: f'{round(x)}%'),\n",
    "         filtered_data['perc_individuals_in_adult_families_in_shelter'].apply(lambda x: f'{round(x)}%'),\n",
    "         ]\n",
    "for i, t in enumerate(texts):\n",
    "    fig.data[i].text = t\n",
    "fig.update_traces(textposition='inside', textfont=dict(color='black', size=10), textangle=0)\n",
    "\n",
    "# Display the plot\n",
    "fig.show()"
   ]
  },
  {
   "cell_type": "code",
   "execution_count": null,
   "metadata": {},
   "outputs": [],
   "source": [
    "desired_columns = [0,1,2,3,4,5,6,7,8,9,10]\n",
    "start_date = datetime(2013, 1, 1)\n",
    "end_date = datetime(2022, 12, 31)\n",
    "\n",
    "# Convert index values to datetime\n",
    "filtered_data = get_columns(yearly_avg_df,desired_columns)\n",
    "\n",
    "# Apply date filter\n",
    "filtered_data = filtered_data[filtered_data.index.to_series().apply(get_date, start_date=start_date, end_date=end_date)]\n",
    "filtered_data.reset_index(inplace=True)\n",
    "filtered_data\n",
    "\n",
    "# Set the template to 'plotly_dark'\n",
    "pio.templates.default = \"plotly_dark\"\n",
    "\n",
    "# Create the bar chart\n",
    "fig = px.bar(filtered_data, x='date_of_census', y=['perc_total_adults_in_shelter', 'perc_total_children_in_shelter'],\n",
    "             color_discrete_sequence=['silver', 'orange'],\n",
    "             labels={'date_of_census': 'Year_Start', 'value': 'Percentage'},\n",
    "             title='Percentage of Adults vs. Children in NYC Shelter YoY',\n",
    "             \n",
    "             )\n",
    "\n",
    "# Customize the layout if needed\n",
    "fig.update_layout(barmode='group', xaxis_tickangle=0,\n",
    "                  legend=dict(orientation='h', yanchor='bottom', y=1.05, xanchor='left', x=0),\n",
    "                  xaxis=dict(tickmode='auto', tickformat='%Y'),\n",
    "                  width=1500,  # Set the desired width of the figure\n",
    "                  height=500  # Set the desired height of the figure\n",
    "                  )\n",
    "\n",
    "# Add data labels\n",
    "texts = [filtered_data['perc_total_adults_in_shelter'].apply(lambda x: f'{round(x)}%'),\n",
    "         filtered_data['perc_total_children_in_shelter'].apply(lambda x: f'{round(x)}%')]\n",
    "for i, t in enumerate(texts):\n",
    "    fig.data[i].text = t\n",
    "fig.update_traces(textposition='inside', textfont=dict(color='black', size=10), textangle=0)\n",
    "\n",
    "# Display the plot\n",
    "fig.show()"
   ]
  },
  {
   "cell_type": "code",
   "execution_count": null,
   "metadata": {},
   "outputs": [],
   "source": [
    "desired_columns = [0,1,2,3,4,5,6,7,8,9,10]\n",
    "start_date = datetime(2013, 1, 1)\n",
    "end_date = datetime(2022, 12, 31)\n",
    "\n",
    "# Convert index values to datetime\n",
    "filtered_data = get_columns(yearly_avg_df,desired_columns)\n",
    "\n",
    "# Apply date filter\n",
    "filtered_data = filtered_data[filtered_data.index.to_series().apply(get_date, start_date=start_date, end_date=end_date)]\n",
    "filtered_data.reset_index(inplace=True)\n",
    "filtered_data\n",
    "\n",
    "# Set the template to 'plotly_dark'\n",
    "pio.templates.default = \"plotly_dark\"\n",
    "\n",
    "# Create the bar chart\n",
    "fig = px.bar(filtered_data, x='date_of_census', y=['perc_single_adult_men_in_shelter', 'perc_single_adult_women_in_shelter'],\n",
    "             color_discrete_sequence=['sienna', 'silver'],\n",
    "             labels={'date_of_census': 'Year_Start', 'value': 'Percentage'},\n",
    "             title='NYC Sheltered Population by Gender YoY',\n",
    "             \n",
    "             )\n",
    "\n",
    "# Customize the layout if needed\n",
    "fig.update_layout(barmode='group', xaxis_tickangle=0,\n",
    "                  legend=dict(orientation='h', yanchor='bottom', y=1.05, xanchor='left', x=0),\n",
    "                  width=1500,  # Set the desired width of the figure\n",
    "                  height=500  # Set the desired height of the figure\n",
    "                  )\n",
    "\n",
    "\n",
    "# Add data labels\n",
    "texts = [filtered_data['perc_single_adult_men_in_shelter'].apply(lambda x: f'{round(x)}%'),\n",
    "         filtered_data['perc_single_adult_women_in_shelter'].apply(lambda x: f'{round(x)}%')]\n",
    "for i, t in enumerate(texts):\n",
    "    fig.data[i].text = t\n",
    "fig.update_traces(textposition='inside', textfont=dict(color='black', size=10), textangle=0)\n",
    "\n",
    "# Display the plot\n",
    "fig.show()"
   ]
  },
  {
   "attachments": {},
   "cell_type": "markdown",
   "metadata": {},
   "source": [
    "##### correlation analyses"
   ]
  },
  {
   "cell_type": "code",
   "execution_count": null,
   "metadata": {},
   "outputs": [],
   "source": [
    "'''correlation_matrix = filtered_data.corr()  # Correlation matrix\n",
    "sns.heatmap(correlation_matrix, annot=True, cmap='rocket_r')\n",
    "plt.show()'''"
   ]
  },
  {
   "cell_type": "code",
   "execution_count": null,
   "metadata": {},
   "outputs": [],
   "source": [
    "'''desired_columns = [0,1,2,3,4,5,6,7,8]\n",
    "filtered_data = get_columns(quarterly_avg_df,desired_columns)\n",
    "\n",
    "\n",
    "correlation_matrix = filtered_data.corr()  # Correlation matrix\n",
    "sns.heatmap(correlation_matrix, annot=True, cmap='rocket_r')\n",
    "plt.show()'''"
   ]
  },
  {
   "attachments": {},
   "cell_type": "markdown",
   "metadata": {},
   "source": [
    "#### web app development"
   ]
  },
  {
   "attachments": {},
   "cell_type": "markdown",
   "metadata": {},
   "source": []
  },
  {
   "cell_type": "code",
   "execution_count": null,
   "metadata": {},
   "outputs": [],
   "source": [
    "app = dash.Dash(__name__)\n",
    "\n",
    "date_range_select = dcc.DatePickerRange(\n",
    "        id=\"date-range\",\n",
    "        min_date_allowed=datetime(2013, 1, 1),\n",
    "        max_date_allowed=datetime.today(),\n",
    "        start_date=datetime(2013, 1, 1),\n",
    "        end_date=datetime.today(),\n",
    "    )\n",
    "\n",
    "output = dcc.Graph(style={'width':'90vw',\n",
    "                          'height':'50vw'},\n",
    "                   id=\"graph\")\n",
    "\n",
    "app.layout = html.Div([\n",
    "    dbc.Row(date_range_select),\n",
    "    dbc.Row(output),\n",
    "])\n",
    "\n",
    "@app.callback(\n",
    "    Output(\"graph\", \"figure\"),\n",
    "    Input(\"date-range\", \"start_date\"),\n",
    "    Input(\"date-range\", \"end_date\")\n",
    ")\n",
    "def data_visualization(start_date, end_date):\n",
    "    filtered_data = get_columns(dhs_daily_df, desired_columns)\n",
    "\n",
    "    # Apply date filter\n",
    "    filtered_data = filtered_data[\n",
    "        (filtered_data.index >= start_date) & (filtered_data.index <= end_date)\n",
    "    ]\n",
    "\n",
    "    # Set the template to 'plotly_dark'\n",
    "    pio.templates.default = \"plotly_dark\"\n",
    "\n",
    "    # Create the line chart\n",
    "    fig = px.line(\n",
    "        filtered_data,\n",
    "        x=filtered_data.index,\n",
    "        y='total_individuals_in_shelter',\n",
    "        color_discrete_sequence=['orange'],\n",
    "        labels=dict(\n",
    "            x='Date',\n",
    "            y='Total Sheltered Individuals'\n",
    "        ),\n",
    "        title='Daily Total Individuals in NYC Shelters'\n",
    "    )\n",
    "\n",
    "    # Customize the layout if needed\n",
    "    fig.update_layout(\n",
    "        xaxis_tickangle=0,\n",
    "        legend=dict(orientation='h', yanchor='bottom', y=1.05, xanchor='left', x=0),\n",
    "        yaxis=dict(tickmode='auto', tickformat='d', range=[40000, filtered_data['total_individuals_in_shelter'].max()]),\n",
    "        margin=dict(l=100, r=50, t=80, b=20),  # Adjust the left and right margin values as desired\n",
    "        width=1500,  # Set the desired width of the figure\n",
    "        height=500  # Set the desired height of the figure\n",
    "    )\n",
    "    return fig\n",
    "\n",
    "if __name__ == '__main__':\n",
    "    app.run_server(debug=True)"
   ]
  },
  {
   "attachments": {},
   "cell_type": "markdown",
   "metadata": {},
   "source": [
    "# forecasting"
   ]
  },
  {
   "cell_type": "code",
   "execution_count": null,
   "metadata": {},
   "outputs": [],
   "source": [
    "# forecasting\n",
    "def forecast_sarimax(time_series, forecast_steps):\n",
    "    forecasts = {}\n",
    "\n",
    "    for column in time_series.columns:\n",
    "        # Extract the individual time series\n",
    "        ts = time_series[column]\n",
    "\n",
    "        # Fit the SARIMAX model\n",
    "        model = sm.tsa.SARIMAX(ts, order=(1, 0, 0), seasonal_order=(0, 0, 0, 0))\n",
    "        model_fit = model.fit()\n",
    "\n",
    "        # Forecast future values\n",
    "        forecast = model_fit.get_forecast(steps=forecast_steps)\n",
    "\n",
    "        # Extract the forecasted values and confidence intervals\n",
    "        forecast_values = forecast.predicted_mean\n",
    "        forecast_ci = forecast.conf_int()\n",
    "\n",
    "        # Create a DataFrame with the forecasted values and confidence intervals\n",
    "        forecast_df = pd.DataFrame({'Forecast': forecast_values,\n",
    "                                    'Lower CI': forecast_ci.iloc[:, 0],\n",
    "                                    'Upper CI': forecast_ci.iloc[:, 1]})\n",
    "\n",
    "        # Store the forecast for the current variable\n",
    "        forecasts[column] = forecast_df\n",
    "\n",
    "    return forecasts"
   ]
  },
  {
   "cell_type": "code",
   "execution_count": null,
   "metadata": {},
   "outputs": [],
   "source": [
    "'''forecasts = forecast_sarimax(filtered_data, forecast_steps=5)\n",
    "variable_name = 'perc_total_adults_in_shelter'\n",
    "forecast_variable_1 = forecasts[variable_name]\n",
    "forecast_variable_1'''"
   ]
  },
  {
   "cell_type": "code",
   "execution_count": null,
   "metadata": {},
   "outputs": [],
   "source": []
  },
  {
   "cell_type": "code",
   "execution_count": null,
   "metadata": {},
   "outputs": [],
   "source": []
  },
  {
   "cell_type": "code",
   "execution_count": null,
   "metadata": {},
   "outputs": [],
   "source": []
  }
 ],
 "metadata": {
  "kernelspec": {
   "display_name": "env",
   "language": "python",
   "name": "python3"
  },
  "language_info": {
   "codemirror_mode": {
    "name": "ipython",
    "version": 3
   },
   "file_extension": ".py",
   "mimetype": "text/x-python",
   "name": "python",
   "nbconvert_exporter": "python",
   "pygments_lexer": "ipython3",
   "version": "3.11.1"
  },
  "orig_nbformat": 4
 },
 "nbformat": 4,
 "nbformat_minor": 2
}
